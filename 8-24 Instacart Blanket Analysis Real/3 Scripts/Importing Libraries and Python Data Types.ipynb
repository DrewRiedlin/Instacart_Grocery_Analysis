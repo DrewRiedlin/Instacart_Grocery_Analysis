{
 "cells": [
  {
   "cell_type": "markdown",
   "id": "fba2710c-7fcd-40bd-9a0e-8a9b8cdd794a",
   "metadata": {},
   "source": [
    "#1. Importing Libraries"
   ]
  },
  {
   "cell_type": "code",
   "execution_count": 1,
   "id": "6e0b2fa7-6796-4ff5-b29f-6cf43e9d9a8c",
   "metadata": {},
   "outputs": [],
   "source": [
    "# Import libraries\n",
    "import pandas as pd\n",
    "import numpy as np\n",
    "import os"
   ]
  },
  {
   "cell_type": "markdown",
   "id": "4256adc6-7a97-4ebf-bbbd-a6b120983740",
   "metadata": {},
   "source": [
    "#Python Data Types Practice"
   ]
  },
  {
   "cell_type": "code",
   "execution_count": 43,
   "id": "41f4382a-3a68-4437-bb24-6e32f7845690",
   "metadata": {},
   "outputs": [
    {
     "data": {
      "text/plain": [
       "100"
      ]
     },
     "execution_count": 43,
     "metadata": {},
     "output_type": "execute_result"
    }
   ],
   "source": [
    "x = 25\n",
    "y = 75\n",
    "x + y"
   ]
  },
  {
   "cell_type": "code",
   "execution_count": 45,
   "id": "42cb66a6-ae26-4096-87eb-379393827192",
   "metadata": {},
   "outputs": [
    {
     "data": {
      "text/plain": [
       "100"
      ]
     },
     "execution_count": 45,
     "metadata": {},
     "output_type": "execute_result"
    }
   ],
   "source": [
    "a = 400\n",
    "b = 300\n",
    "a - b"
   ]
  },
  {
   "cell_type": "code",
   "execution_count": 47,
   "id": "e6487fc8-d81b-4fde-9d8f-17d4e4e49603",
   "metadata": {},
   "outputs": [
    {
     "data": {
      "text/plain": [
       "100"
      ]
     },
     "execution_count": 47,
     "metadata": {},
     "output_type": "execute_result"
    }
   ],
   "source": [
    "r = 25\n",
    "t = 4\n",
    "r * t"
   ]
  },
  {
   "cell_type": "code",
   "execution_count": 49,
   "id": "3d6d8675-7001-4722-80b2-71e8355517ac",
   "metadata": {},
   "outputs": [
    {
     "data": {
      "text/plain": [
       "3.0"
      ]
     },
     "execution_count": 49,
     "metadata": {},
     "output_type": "execute_result"
    }
   ],
   "source": [
    "k = 12.75\n",
    "l = 4.25\n",
    "k / l"
   ]
  },
  {
   "cell_type": "code",
   "execution_count": 51,
   "id": "c0532cd4-8dc4-4bd2-9b47-a9821115dcf9",
   "metadata": {},
   "outputs": [
    {
     "data": {
      "text/plain": [
       "'notebook'"
      ]
     },
     "execution_count": 51,
     "metadata": {},
     "output_type": "execute_result"
    }
   ],
   "source": [
    "p = 'note'\n",
    "q = 'book'\n",
    "p + q"
   ]
  },
  {
   "cell_type": "code",
   "execution_count": 53,
   "id": "f38a0248-c517-49ea-b419-5b797ee25c35",
   "metadata": {},
   "outputs": [
    {
     "data": {
      "text/plain": [
       "'My name is whatever you want it to be'"
      ]
     },
     "execution_count": 53,
     "metadata": {},
     "output_type": "execute_result"
    }
   ],
   "source": [
    "g = 'My name is '\n",
    "h = 'whatever you want it to be'\n",
    "g + h"
   ]
  },
  {
   "cell_type": "code",
   "execution_count": null,
   "id": "aca217ae-68d3-4e72-858b-c90f5451d49a",
   "metadata": {},
   "outputs": [],
   "source": [
    "m = 'I live in '\n",
    "n = 'the middle of nowhere.'"
   ]
  },
  {
   "cell_type": "code",
   "execution_count": null,
   "id": "ca61a1b5-985b-45e3-af0a-d2e968fa5c84",
   "metadata": {},
   "outputs": [],
   "source": []
  },
  {
   "cell_type": "code",
   "execution_count": 7,
   "id": "bbeb863c-96b9-4509-a112-44d23d53408e",
   "metadata": {},
   "outputs": [],
   "source": [
    "x = 2"
   ]
  },
  {
   "cell_type": "code",
   "execution_count": 9,
   "id": "64c62098-e6e1-4462-907c-6d093c8b87e1",
   "metadata": {},
   "outputs": [
    {
     "data": {
      "text/plain": [
       "2"
      ]
     },
     "execution_count": 9,
     "metadata": {},
     "output_type": "execute_result"
    }
   ],
   "source": [
    "x"
   ]
  },
  {
   "cell_type": "code",
   "execution_count": 11,
   "id": "fd8099c6-2f21-4497-888f-fe01f8c8cdbe",
   "metadata": {},
   "outputs": [
    {
     "name": "stdout",
     "output_type": "stream",
     "text": [
      "2\n"
     ]
    }
   ],
   "source": [
    "print(x)"
   ]
  },
  {
   "cell_type": "code",
   "execution_count": 13,
   "id": "07a3a815-4b46-4901-8ff4-3be65b658cfb",
   "metadata": {},
   "outputs": [
    {
     "data": {
      "text/plain": [
       "int"
      ]
     },
     "execution_count": 13,
     "metadata": {},
     "output_type": "execute_result"
    }
   ],
   "source": [
    "type(x)"
   ]
  },
  {
   "cell_type": "code",
   "execution_count": 15,
   "id": "f1ae0e93-80cb-45d7-850b-ea74749cd959",
   "metadata": {},
   "outputs": [],
   "source": [
    "y = 5.678"
   ]
  },
  {
   "cell_type": "code",
   "execution_count": 17,
   "id": "790c5c60-ef98-468b-a7c3-632fe6cbdf73",
   "metadata": {},
   "outputs": [
    {
     "data": {
      "text/plain": [
       "float"
      ]
     },
     "execution_count": 17,
     "metadata": {},
     "output_type": "execute_result"
    }
   ],
   "source": [
    "type(y)"
   ]
  },
  {
   "cell_type": "code",
   "execution_count": 21,
   "id": "9c838804-eeba-46db-9c4b-def80cc0b2d9",
   "metadata": {},
   "outputs": [],
   "source": [
    "z = 'Brazil'"
   ]
  },
  {
   "cell_type": "code",
   "execution_count": 23,
   "id": "6423eeca-8d4c-4749-adaa-58225de60331",
   "metadata": {},
   "outputs": [
    {
     "data": {
      "text/plain": [
       "str"
      ]
     },
     "execution_count": 23,
     "metadata": {},
     "output_type": "execute_result"
    }
   ],
   "source": [
    "type(z)"
   ]
  },
  {
   "cell_type": "code",
   "execution_count": 25,
   "id": "04bfcf2f-c6bd-40a4-bb2c-95ff59383c8f",
   "metadata": {},
   "outputs": [
    {
     "data": {
      "text/plain": [
       "6"
      ]
     },
     "execution_count": 25,
     "metadata": {},
     "output_type": "execute_result"
    }
   ],
   "source": [
    "x + 4"
   ]
  },
  {
   "cell_type": "code",
   "execution_count": 27,
   "id": "926d9536-9624-4e9f-80a2-0f6530854725",
   "metadata": {},
   "outputs": [],
   "source": [
    "x = x + 4"
   ]
  },
  {
   "cell_type": "code",
   "execution_count": 29,
   "id": "0ad9ea38-69af-41c2-a1c3-4d5714022f4f",
   "metadata": {},
   "outputs": [
    {
     "name": "stdout",
     "output_type": "stream",
     "text": [
      "6\n"
     ]
    }
   ],
   "source": [
    "print(x)"
   ]
  },
  {
   "cell_type": "code",
   "execution_count": 33,
   "id": "c8fd3e9f-9c84-4c35-a3a5-fdf47643956f",
   "metadata": {},
   "outputs": [],
   "source": [
    "a = 'Hello, '"
   ]
  },
  {
   "cell_type": "code",
   "execution_count": 35,
   "id": "67348fd1-06e4-4922-9466-3737ed2f94e5",
   "metadata": {},
   "outputs": [],
   "source": [
    "b = 'Marley.'"
   ]
  },
  {
   "cell_type": "code",
   "execution_count": 37,
   "id": "a49cb8c3-2053-4c5b-af8b-7959bd1de246",
   "metadata": {},
   "outputs": [
    {
     "data": {
      "text/plain": [
       "'Hello, Marley.'"
      ]
     },
     "execution_count": 37,
     "metadata": {},
     "output_type": "execute_result"
    }
   ],
   "source": [
    "a + b"
   ]
  },
  {
   "cell_type": "code",
   "execution_count": 39,
   "id": "4171cb67-41fd-485e-8ffe-a01449ccbc85",
   "metadata": {},
   "outputs": [
    {
     "data": {
      "text/plain": [
       "False"
      ]
     },
     "execution_count": 39,
     "metadata": {},
     "output_type": "execute_result"
    }
   ],
   "source": [
    "x == y"
   ]
  },
  {
   "cell_type": "code",
   "execution_count": 41,
   "id": "a13670fa-4383-4d9e-a1f2-5c2a65c66a65",
   "metadata": {},
   "outputs": [
    {
     "data": {
      "text/plain": [
       "bool"
      ]
     },
     "execution_count": 41,
     "metadata": {},
     "output_type": "execute_result"
    }
   ],
   "source": [
    "type(x == y)"
   ]
  },
  {
   "cell_type": "code",
   "execution_count": null,
   "id": "8bb72a93-dba0-4c1a-a6b4-36f1f0c31d43",
   "metadata": {},
   "outputs": [],
   "source": []
  }
 ],
 "metadata": {
  "kernelspec": {
   "display_name": "Python 3 (ipykernel)",
   "language": "python",
   "name": "python3"
  },
  "language_info": {
   "codemirror_mode": {
    "name": "ipython",
    "version": 3
   },
   "file_extension": ".py",
   "mimetype": "text/x-python",
   "name": "python",
   "nbconvert_exporter": "python",
   "pygments_lexer": "ipython3",
   "version": "3.12.4"
  }
 },
 "nbformat": 4,
 "nbformat_minor": 5
}
